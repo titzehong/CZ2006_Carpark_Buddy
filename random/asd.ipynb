{
 "cells": [
  {
   "cell_type": "code",
   "execution_count": 1,
   "metadata": {},
   "outputs": [],
   "source": [
    "import pandas as pd\n",
    "import numpy as np\n",
    "from datetime import datetime, timezone\n",
    "import plotly.express as px\n",
    "import plotly.graph_objects as go\n",
    "from plotly.io import to_html\n",
    "\n",
    "import requests\n",
    "import json\n",
    "from tqdm import tqdm"
   ]
  },
  {
   "cell_type": "code",
   "execution_count": 2,
   "metadata": {},
   "outputs": [],
   "source": [
    "agg_df = pd.read_csv('../hdb_carpark_info/agg_df.csv')"
   ]
  },
  {
   "cell_type": "code",
   "execution_count": 5,
   "metadata": {},
   "outputs": [
    {
     "data": {
      "text/html": [
       "<div>\n",
       "<style scoped>\n",
       "    .dataframe tbody tr th:only-of-type {\n",
       "        vertical-align: middle;\n",
       "    }\n",
       "\n",
       "    .dataframe tbody tr th {\n",
       "        vertical-align: top;\n",
       "    }\n",
       "\n",
       "    .dataframe thead th {\n",
       "        text-align: right;\n",
       "    }\n",
       "</style>\n",
       "<table border=\"1\" class=\"dataframe\">\n",
       "  <thead>\n",
       "    <tr style=\"text-align: right;\">\n",
       "      <th></th>\n",
       "      <th>carpark_number</th>\n",
       "      <th>dayOfWeek</th>\n",
       "      <th>minsOfTheDay</th>\n",
       "      <th>total_lots</th>\n",
       "      <th>lot_type</th>\n",
       "      <th>lots_available</th>\n",
       "    </tr>\n",
       "  </thead>\n",
       "  <tbody>\n",
       "    <tr>\n",
       "      <th>0</th>\n",
       "      <td>A10</td>\n",
       "      <td>0</td>\n",
       "      <td>0</td>\n",
       "      <td>64.0</td>\n",
       "      <td>C</td>\n",
       "      <td>16.0</td>\n",
       "    </tr>\n",
       "    <tr>\n",
       "      <th>1</th>\n",
       "      <td>A10</td>\n",
       "      <td>0</td>\n",
       "      <td>5</td>\n",
       "      <td>64.0</td>\n",
       "      <td>C</td>\n",
       "      <td>16.0</td>\n",
       "    </tr>\n",
       "    <tr>\n",
       "      <th>2</th>\n",
       "      <td>A10</td>\n",
       "      <td>0</td>\n",
       "      <td>10</td>\n",
       "      <td>64.0</td>\n",
       "      <td>C</td>\n",
       "      <td>16.0</td>\n",
       "    </tr>\n",
       "    <tr>\n",
       "      <th>3</th>\n",
       "      <td>A10</td>\n",
       "      <td>0</td>\n",
       "      <td>15</td>\n",
       "      <td>64.0</td>\n",
       "      <td>C</td>\n",
       "      <td>16.0</td>\n",
       "    </tr>\n",
       "    <tr>\n",
       "      <th>4</th>\n",
       "      <td>A10</td>\n",
       "      <td>0</td>\n",
       "      <td>20</td>\n",
       "      <td>64.0</td>\n",
       "      <td>C</td>\n",
       "      <td>16.0</td>\n",
       "    </tr>\n",
       "    <tr>\n",
       "      <th>...</th>\n",
       "      <td>...</td>\n",
       "      <td>...</td>\n",
       "      <td>...</td>\n",
       "      <td>...</td>\n",
       "      <td>...</td>\n",
       "      <td>...</td>\n",
       "    </tr>\n",
       "    <tr>\n",
       "      <th>4446715</th>\n",
       "      <td>YHS</td>\n",
       "      <td>6</td>\n",
       "      <td>1425</td>\n",
       "      <td>64.0</td>\n",
       "      <td>C</td>\n",
       "      <td>20.0</td>\n",
       "    </tr>\n",
       "    <tr>\n",
       "      <th>4446716</th>\n",
       "      <td>YHS</td>\n",
       "      <td>6</td>\n",
       "      <td>1430</td>\n",
       "      <td>64.0</td>\n",
       "      <td>C</td>\n",
       "      <td>20.0</td>\n",
       "    </tr>\n",
       "    <tr>\n",
       "      <th>4446717</th>\n",
       "      <td>YHS</td>\n",
       "      <td>6</td>\n",
       "      <td>1430</td>\n",
       "      <td>64.0</td>\n",
       "      <td>C</td>\n",
       "      <td>20.0</td>\n",
       "    </tr>\n",
       "    <tr>\n",
       "      <th>4446718</th>\n",
       "      <td>YHS</td>\n",
       "      <td>6</td>\n",
       "      <td>1435</td>\n",
       "      <td>64.0</td>\n",
       "      <td>C</td>\n",
       "      <td>20.0</td>\n",
       "    </tr>\n",
       "    <tr>\n",
       "      <th>4446719</th>\n",
       "      <td>YHS</td>\n",
       "      <td>6</td>\n",
       "      <td>1435</td>\n",
       "      <td>64.0</td>\n",
       "      <td>C</td>\n",
       "      <td>20.0</td>\n",
       "    </tr>\n",
       "  </tbody>\n",
       "</table>\n",
       "<p>4446720 rows × 6 columns</p>\n",
       "</div>"
      ],
      "text/plain": [
       "        carpark_number  dayOfWeek  minsOfTheDay  total_lots lot_type  \\\n",
       "0                  A10          0             0        64.0        C   \n",
       "1                  A10          0             5        64.0        C   \n",
       "2                  A10          0            10        64.0        C   \n",
       "3                  A10          0            15        64.0        C   \n",
       "4                  A10          0            20        64.0        C   \n",
       "...                ...        ...           ...         ...      ...   \n",
       "4446715            YHS          6          1425        64.0        C   \n",
       "4446716            YHS          6          1430        64.0        C   \n",
       "4446717            YHS          6          1430        64.0        C   \n",
       "4446718            YHS          6          1435        64.0        C   \n",
       "4446719            YHS          6          1435        64.0        C   \n",
       "\n",
       "         lots_available  \n",
       "0                  16.0  \n",
       "1                  16.0  \n",
       "2                  16.0  \n",
       "3                  16.0  \n",
       "4                  16.0  \n",
       "...                 ...  \n",
       "4446715            20.0  \n",
       "4446716            20.0  \n",
       "4446717            20.0  \n",
       "4446718            20.0  \n",
       "4446719            20.0  \n",
       "\n",
       "[4446720 rows x 6 columns]"
      ]
     },
     "execution_count": 5,
     "metadata": {},
     "output_type": "execute_result"
    }
   ],
   "source": [
    "agg_df"
   ]
  },
  {
   "cell_type": "code",
   "execution_count": 55,
   "metadata": {},
   "outputs": [],
   "source": [
    "def get_plot(agg_df, cp, selected_datetime):\n",
    "    dow = selected_datetime.weekday()\n",
    "    h = selected_datetime.hour\n",
    "    m = selected_datetime.minute\n",
    "    motd = h*60 + m\n",
    "\n",
    "    cp_msk = agg_df['carpark_number'] == cp\n",
    "    dow_msp = agg_df['dayOfWeek'] == dow\n",
    "\n",
    "    temp = agg_df[cp_msk & dow_msp]\n",
    "\n",
    "    selected_idx = np.where(temp['minsOfTheDay']==motd)[0][0]\n",
    "\n",
    "    if selected_idx<10:\n",
    "        left_idx = 0\n",
    "        right_idx = 21\n",
    "\n",
    "        left_highlight_idx = 0\n",
    "        right_highlight_idx = selected_idx+5\n",
    "\n",
    "    elif selected_idx>=temp.shape[0]-10:\n",
    "        left_idx = temp.shape[0]-21\n",
    "        right_idx = temp.shape[0]\n",
    "\n",
    "        left_highlight_idx = selected_idx-5\n",
    "        right_highlight_idx = temp.shape[0]\n",
    "\n",
    "    else:\n",
    "        left_idx = selected_idx-10\n",
    "        right_idx = selected_idx+11\n",
    "\n",
    "        left_highlight_idx = selected_idx-5\n",
    "        right_highlight_idx = selected_idx+5    \n",
    "\n",
    "    X = temp.iloc[left_idx:right_idx]['minsOfTheDay']\n",
    "    Y = temp.iloc[left_idx:right_idx]['lots_available']\n",
    "\n",
    "    X_highlight = temp.iloc[left_highlight_idx:right_highlight_idx]['minsOfTheDay']\n",
    "    max_availability = Y.max()\n",
    "\n",
    "    fig = go.Figure()\n",
    "    fig = go.Figure(go.Scatter(x=X_highlight, y=[max_availability+5 for _ in range(len(X_highlight))], \n",
    "                               fill=\"tozeroy\", marker = dict(size=1,\n",
    "                                  line=dict(width=1,\n",
    "                                            color='DarkSlateGrey'))))\n",
    "\n",
    "    fig.add_trace(go.Scatter(x=X, y=Y,\n",
    "                        mode='lines',\n",
    "                        name='lines'))\n",
    "#     fig.show()\n",
    "    out_html = to_html(fig, include_plotlyjs=False, full_html=True)\n",
    "    return out_html"
   ]
  },
  {
   "cell_type": "code",
   "execution_count": 29,
   "metadata": {},
   "outputs": [],
   "source": [
    "    dow = selected_datetime.weekday()\n",
    "    h = selected_datetime.hour\n",
    "    m = selected_datetime.minute\n",
    "    motd = h*60 + m"
   ]
  },
  {
   "cell_type": "code",
   "execution_count": 31,
   "metadata": {},
   "outputs": [
    {
     "data": {
      "text/plain": [
       "27"
      ]
     },
     "execution_count": 31,
     "metadata": {},
     "output_type": "execute_result"
    }
   ],
   "source": [
    "selected_datetime.minute"
   ]
  },
  {
   "cell_type": "code",
   "execution_count": 15,
   "metadata": {},
   "outputs": [
    {
     "data": {
      "text/plain": [
       "datetime.datetime(2021, 3, 20, 11, 26, 25, 264837)"
      ]
     },
     "execution_count": 15,
     "metadata": {},
     "output_type": "execute_result"
    }
   ],
   "source": [
    "selected_datetime"
   ]
  },
  {
   "cell_type": "code",
   "execution_count": 18,
   "metadata": {},
   "outputs": [
    {
     "data": {
      "text/plain": [
       "datetime.datetime(2021, 3, 20, 11, 26, 40, 401680)"
      ]
     },
     "execution_count": 18,
     "metadata": {},
     "output_type": "execute_result"
    }
   ],
   "source": [
    "selected_datetime1"
   ]
  },
  {
   "cell_type": "code",
   "execution_count": 28,
   "metadata": {},
   "outputs": [
    {
     "data": {
      "text/plain": [
       "27"
      ]
     },
     "execution_count": 28,
     "metadata": {},
     "output_type": "execute_result"
    }
   ],
   "source": [
    "selected_datetime.minute"
   ]
  },
  {
   "cell_type": "code",
   "execution_count": 52,
   "metadata": {},
   "outputs": [],
   "source": [
    "loler_df = agg_df[agg_df['carpark_number']=='YHS']"
   ]
  },
  {
   "cell_type": "code",
   "execution_count": 54,
   "metadata": {},
   "outputs": [
    {
     "data": {
      "text/plain": [
       "'<div>                            <div id=\"06e2b9c5-64aa-425a-9168-8d9b95f6362e\" class=\"plotly-graph-div\" style=\"height:100%; width:100%;\"></div>            <script type=\"text/javascript\">                                    window.PLOTLYENV=window.PLOTLYENV || {};                                    if (document.getElementById(\"06e2b9c5-64aa-425a-9168-8d9b95f6362e\")) {                    Plotly.newPlot(                        \"06e2b9c5-64aa-425a-9168-8d9b95f6362e\",                        [{\"fill\": \"tozeroy\", \"marker\": {\"line\": {\"color\": \"DarkSlateGrey\", \"width\": 1}, \"size\": 1}, \"type\": \"scatter\", \"x\": [725, 730, 735, 740, 745, 750, 755, 760, 765, 770], \"y\": [25.0, 25.0, 25.0, 25.0, 25.0, 25.0, 25.0, 25.0, 25.0, 25.0]}, {\"mode\": \"lines\", \"name\": \"lines\", \"type\": \"scatter\", \"x\": [700, 705, 710, 715, 720, 725, 730, 735, 740, 745, 750, 755, 760, 765, 770, 775, 780, 785, 790, 795, 800], \"y\": [0.0, 0.0, 0.0, 0.0, 0.0, 0.0, 0.0, 0.0, 0.0, 0.0, 0.0, 0.0, 0.0, 20.0, 20.0, 20.0, 20.0, 20.0, 20.0, 0.0, 0.0]}],                        {\"template\": {\"data\": {\"bar\": [{\"error_x\": {\"color\": \"#2a3f5f\"}, \"error_y\": {\"color\": \"#2a3f5f\"}, \"marker\": {\"line\": {\"color\": \"#E5ECF6\", \"width\": 0.5}}, \"type\": \"bar\"}], \"barpolar\": [{\"marker\": {\"line\": {\"color\": \"#E5ECF6\", \"width\": 0.5}}, \"type\": \"barpolar\"}], \"carpet\": [{\"aaxis\": {\"endlinecolor\": \"#2a3f5f\", \"gridcolor\": \"white\", \"linecolor\": \"white\", \"minorgridcolor\": \"white\", \"startlinecolor\": \"#2a3f5f\"}, \"baxis\": {\"endlinecolor\": \"#2a3f5f\", \"gridcolor\": \"white\", \"linecolor\": \"white\", \"minorgridcolor\": \"white\", \"startlinecolor\": \"#2a3f5f\"}, \"type\": \"carpet\"}], \"choropleth\": [{\"colorbar\": {\"outlinewidth\": 0, \"ticks\": \"\"}, \"type\": \"choropleth\"}], \"contour\": [{\"colorbar\": {\"outlinewidth\": 0, \"ticks\": \"\"}, \"colorscale\": [[0.0, \"#0d0887\"], [0.1111111111111111, \"#46039f\"], [0.2222222222222222, \"#7201a8\"], [0.3333333333333333, \"#9c179e\"], [0.4444444444444444, \"#bd3786\"], [0.5555555555555556, \"#d8576b\"], [0.6666666666666666, \"#ed7953\"], [0.7777777777777778, \"#fb9f3a\"], [0.8888888888888888, \"#fdca26\"], [1.0, \"#f0f921\"]], \"type\": \"contour\"}], \"contourcarpet\": [{\"colorbar\": {\"outlinewidth\": 0, \"ticks\": \"\"}, \"type\": \"contourcarpet\"}], \"heatmap\": [{\"colorbar\": {\"outlinewidth\": 0, \"ticks\": \"\"}, \"colorscale\": [[0.0, \"#0d0887\"], [0.1111111111111111, \"#46039f\"], [0.2222222222222222, \"#7201a8\"], [0.3333333333333333, \"#9c179e\"], [0.4444444444444444, \"#bd3786\"], [0.5555555555555556, \"#d8576b\"], [0.6666666666666666, \"#ed7953\"], [0.7777777777777778, \"#fb9f3a\"], [0.8888888888888888, \"#fdca26\"], [1.0, \"#f0f921\"]], \"type\": \"heatmap\"}], \"heatmapgl\": [{\"colorbar\": {\"outlinewidth\": 0, \"ticks\": \"\"}, \"colorscale\": [[0.0, \"#0d0887\"], [0.1111111111111111, \"#46039f\"], [0.2222222222222222, \"#7201a8\"], [0.3333333333333333, \"#9c179e\"], [0.4444444444444444, \"#bd3786\"], [0.5555555555555556, \"#d8576b\"], [0.6666666666666666, \"#ed7953\"], [0.7777777777777778, \"#fb9f3a\"], [0.8888888888888888, \"#fdca26\"], [1.0, \"#f0f921\"]], \"type\": \"heatmapgl\"}], \"histogram\": [{\"marker\": {\"colorbar\": {\"outlinewidth\": 0, \"ticks\": \"\"}}, \"type\": \"histogram\"}], \"histogram2d\": [{\"colorbar\": {\"outlinewidth\": 0, \"ticks\": \"\"}, \"colorscale\": [[0.0, \"#0d0887\"], [0.1111111111111111, \"#46039f\"], [0.2222222222222222, \"#7201a8\"], [0.3333333333333333, \"#9c179e\"], [0.4444444444444444, \"#bd3786\"], [0.5555555555555556, \"#d8576b\"], [0.6666666666666666, \"#ed7953\"], [0.7777777777777778, \"#fb9f3a\"], [0.8888888888888888, \"#fdca26\"], [1.0, \"#f0f921\"]], \"type\": \"histogram2d\"}], \"histogram2dcontour\": [{\"colorbar\": {\"outlinewidth\": 0, \"ticks\": \"\"}, \"colorscale\": [[0.0, \"#0d0887\"], [0.1111111111111111, \"#46039f\"], [0.2222222222222222, \"#7201a8\"], [0.3333333333333333, \"#9c179e\"], [0.4444444444444444, \"#bd3786\"], [0.5555555555555556, \"#d8576b\"], [0.6666666666666666, \"#ed7953\"], [0.7777777777777778, \"#fb9f3a\"], [0.8888888888888888, \"#fdca26\"], [1.0, \"#f0f921\"]], \"type\": \"histogram2dcontour\"}], \"mesh3d\": [{\"colorbar\": {\"outlinewidth\": 0, \"ticks\": \"\"}, \"type\": \"mesh3d\"}], \"parcoords\": [{\"line\": {\"colorbar\": {\"outlinewidth\": 0, \"ticks\": \"\"}}, \"type\": \"parcoords\"}], \"pie\": [{\"automargin\": true, \"type\": \"pie\"}], \"scatter\": [{\"marker\": {\"colorbar\": {\"outlinewidth\": 0, \"ticks\": \"\"}}, \"type\": \"scatter\"}], \"scatter3d\": [{\"line\": {\"colorbar\": {\"outlinewidth\": 0, \"ticks\": \"\"}}, \"marker\": {\"colorbar\": {\"outlinewidth\": 0, \"ticks\": \"\"}}, \"type\": \"scatter3d\"}], \"scattercarpet\": [{\"marker\": {\"colorbar\": {\"outlinewidth\": 0, \"ticks\": \"\"}}, \"type\": \"scattercarpet\"}], \"scattergeo\": [{\"marker\": {\"colorbar\": {\"outlinewidth\": 0, \"ticks\": \"\"}}, \"type\": \"scattergeo\"}], \"scattergl\": [{\"marker\": {\"colorbar\": {\"outlinewidth\": 0, \"ticks\": \"\"}}, \"type\": \"scattergl\"}], \"scattermapbox\": [{\"marker\": {\"colorbar\": {\"outlinewidth\": 0, \"ticks\": \"\"}}, \"type\": \"scattermapbox\"}], \"scatterpolar\": [{\"marker\": {\"colorbar\": {\"outlinewidth\": 0, \"ticks\": \"\"}}, \"type\": \"scatterpolar\"}], \"scatterpolargl\": [{\"marker\": {\"colorbar\": {\"outlinewidth\": 0, \"ticks\": \"\"}}, \"type\": \"scatterpolargl\"}], \"scatterternary\": [{\"marker\": {\"colorbar\": {\"outlinewidth\": 0, \"ticks\": \"\"}}, \"type\": \"scatterternary\"}], \"surface\": [{\"colorbar\": {\"outlinewidth\": 0, \"ticks\": \"\"}, \"colorscale\": [[0.0, \"#0d0887\"], [0.1111111111111111, \"#46039f\"], [0.2222222222222222, \"#7201a8\"], [0.3333333333333333, \"#9c179e\"], [0.4444444444444444, \"#bd3786\"], [0.5555555555555556, \"#d8576b\"], [0.6666666666666666, \"#ed7953\"], [0.7777777777777778, \"#fb9f3a\"], [0.8888888888888888, \"#fdca26\"], [1.0, \"#f0f921\"]], \"type\": \"surface\"}], \"table\": [{\"cells\": {\"fill\": {\"color\": \"#EBF0F8\"}, \"line\": {\"color\": \"white\"}}, \"header\": {\"fill\": {\"color\": \"#C8D4E3\"}, \"line\": {\"color\": \"white\"}}, \"type\": \"table\"}]}, \"layout\": {\"annotationdefaults\": {\"arrowcolor\": \"#2a3f5f\", \"arrowhead\": 0, \"arrowwidth\": 1}, \"autotypenumbers\": \"strict\", \"coloraxis\": {\"colorbar\": {\"outlinewidth\": 0, \"ticks\": \"\"}}, \"colorscale\": {\"diverging\": [[0, \"#8e0152\"], [0.1, \"#c51b7d\"], [0.2, \"#de77ae\"], [0.3, \"#f1b6da\"], [0.4, \"#fde0ef\"], [0.5, \"#f7f7f7\"], [0.6, \"#e6f5d0\"], [0.7, \"#b8e186\"], [0.8, \"#7fbc41\"], [0.9, \"#4d9221\"], [1, \"#276419\"]], \"sequential\": [[0.0, \"#0d0887\"], [0.1111111111111111, \"#46039f\"], [0.2222222222222222, \"#7201a8\"], [0.3333333333333333, \"#9c179e\"], [0.4444444444444444, \"#bd3786\"], [0.5555555555555556, \"#d8576b\"], [0.6666666666666666, \"#ed7953\"], [0.7777777777777778, \"#fb9f3a\"], [0.8888888888888888, \"#fdca26\"], [1.0, \"#f0f921\"]], \"sequentialminus\": [[0.0, \"#0d0887\"], [0.1111111111111111, \"#46039f\"], [0.2222222222222222, \"#7201a8\"], [0.3333333333333333, \"#9c179e\"], [0.4444444444444444, \"#bd3786\"], [0.5555555555555556, \"#d8576b\"], [0.6666666666666666, \"#ed7953\"], [0.7777777777777778, \"#fb9f3a\"], [0.8888888888888888, \"#fdca26\"], [1.0, \"#f0f921\"]]}, \"colorway\": [\"#636efa\", \"#EF553B\", \"#00cc96\", \"#ab63fa\", \"#FFA15A\", \"#19d3f3\", \"#FF6692\", \"#B6E880\", \"#FF97FF\", \"#FECB52\"], \"font\": {\"color\": \"#2a3f5f\"}, \"geo\": {\"bgcolor\": \"white\", \"lakecolor\": \"white\", \"landcolor\": \"#E5ECF6\", \"showlakes\": true, \"showland\": true, \"subunitcolor\": \"white\"}, \"hoverlabel\": {\"align\": \"left\"}, \"hovermode\": \"closest\", \"mapbox\": {\"style\": \"light\"}, \"paper_bgcolor\": \"white\", \"plot_bgcolor\": \"#E5ECF6\", \"polar\": {\"angularaxis\": {\"gridcolor\": \"white\", \"linecolor\": \"white\", \"ticks\": \"\"}, \"bgcolor\": \"#E5ECF6\", \"radialaxis\": {\"gridcolor\": \"white\", \"linecolor\": \"white\", \"ticks\": \"\"}}, \"scene\": {\"xaxis\": {\"backgroundcolor\": \"#E5ECF6\", \"gridcolor\": \"white\", \"gridwidth\": 2, \"linecolor\": \"white\", \"showbackground\": true, \"ticks\": \"\", \"zerolinecolor\": \"white\"}, \"yaxis\": {\"backgroundcolor\": \"#E5ECF6\", \"gridcolor\": \"white\", \"gridwidth\": 2, \"linecolor\": \"white\", \"showbackground\": true, \"ticks\": \"\", \"zerolinecolor\": \"white\"}, \"zaxis\": {\"backgroundcolor\": \"#E5ECF6\", \"gridcolor\": \"white\", \"gridwidth\": 2, \"linecolor\": \"white\", \"showbackground\": true, \"ticks\": \"\", \"zerolinecolor\": \"white\"}}, \"shapedefaults\": {\"line\": {\"color\": \"#2a3f5f\"}}, \"ternary\": {\"aaxis\": {\"gridcolor\": \"white\", \"linecolor\": \"white\", \"ticks\": \"\"}, \"baxis\": {\"gridcolor\": \"white\", \"linecolor\": \"white\", \"ticks\": \"\"}, \"bgcolor\": \"#E5ECF6\", \"caxis\": {\"gridcolor\": \"white\", \"linecolor\": \"white\", \"ticks\": \"\"}}, \"title\": {\"x\": 0.05}, \"xaxis\": {\"automargin\": true, \"gridcolor\": \"white\", \"linecolor\": \"white\", \"ticks\": \"\", \"title\": {\"standoff\": 15}, \"zerolinecolor\": \"white\", \"zerolinewidth\": 2}, \"yaxis\": {\"automargin\": true, \"gridcolor\": \"white\", \"linecolor\": \"white\", \"ticks\": \"\", \"title\": {\"standoff\": 15}, \"zerolinecolor\": \"white\", \"zerolinewidth\": 2}}}},                        {\"responsive\": true}                    )                };                            </script>        </div>'"
      ]
     },
     "execution_count": 54,
     "metadata": {},
     "output_type": "execute_result"
    }
   ],
   "source": [
    "selected_datetime = pd.to_datetime('2021-01-30 12:30')\n",
    "#selected_datetime = pd.datetime.now()\n",
    "cp = 'YHS'\n",
    "get_plot(loler_df, cp, selected_datetime)"
   ]
  },
  {
   "cell_type": "code",
   "execution_count": 33,
   "metadata": {},
   "outputs": [
    {
     "ename": "IndexError",
     "evalue": "index 0 is out of bounds for axis 0 with size 0",
     "output_type": "error",
     "traceback": [
      "\u001b[1;31m---------------------------------------------------------------------------\u001b[0m",
      "\u001b[1;31mIndexError\u001b[0m                                Traceback (most recent call last)",
      "\u001b[1;32m<ipython-input-33-a13ed6388f15>\u001b[0m in \u001b[0;36m<module>\u001b[1;34m\u001b[0m\n\u001b[0;32m      9\u001b[0m \u001b[0mtemp\u001b[0m \u001b[1;33m=\u001b[0m \u001b[0magg_df\u001b[0m\u001b[1;33m[\u001b[0m\u001b[0mcp_msk\u001b[0m \u001b[1;33m&\u001b[0m \u001b[0mdow_msp\u001b[0m\u001b[1;33m]\u001b[0m\u001b[1;33m\u001b[0m\u001b[1;33m\u001b[0m\u001b[0m\n\u001b[0;32m     10\u001b[0m \u001b[1;33m\u001b[0m\u001b[0m\n\u001b[1;32m---> 11\u001b[1;33m \u001b[0mselected_idx\u001b[0m \u001b[1;33m=\u001b[0m \u001b[0mnp\u001b[0m\u001b[1;33m.\u001b[0m\u001b[0mwhere\u001b[0m\u001b[1;33m(\u001b[0m\u001b[0mtemp\u001b[0m\u001b[1;33m[\u001b[0m\u001b[1;34m'minsOfTheDay'\u001b[0m\u001b[1;33m]\u001b[0m\u001b[1;33m==\u001b[0m\u001b[0mmotd\u001b[0m\u001b[1;33m)\u001b[0m\u001b[1;33m[\u001b[0m\u001b[1;36m0\u001b[0m\u001b[1;33m]\u001b[0m\u001b[1;33m[\u001b[0m\u001b[1;36m0\u001b[0m\u001b[1;33m]\u001b[0m\u001b[1;33m\u001b[0m\u001b[1;33m\u001b[0m\u001b[0m\n\u001b[0m\u001b[0;32m     12\u001b[0m \u001b[1;33m\u001b[0m\u001b[0m\n\u001b[0;32m     13\u001b[0m \u001b[1;32mif\u001b[0m \u001b[0mselected_idx\u001b[0m\u001b[1;33m<\u001b[0m\u001b[1;36m10\u001b[0m\u001b[1;33m:\u001b[0m\u001b[1;33m\u001b[0m\u001b[1;33m\u001b[0m\u001b[0m\n",
      "\u001b[1;31mIndexError\u001b[0m: index 0 is out of bounds for axis 0 with size 0"
     ]
    }
   ],
   "source": [
    "dow = selected_datetime.weekday()\n",
    "h = selected_datetime.hour\n",
    "m = selected_datetime.minute\n",
    "motd = h*60 + m\n",
    "\n",
    "cp_msk = agg_df['carpark_number'] == cp\n",
    "dow_msp = agg_df['dayOfWeek'] == dow\n",
    "\n",
    "temp = agg_df[cp_msk & dow_msp]\n",
    "\n",
    "selected_idx = np.where(temp['minsOfTheDay']==motd)[0][0]\n",
    "\n",
    "if selected_idx<10:\n",
    "    left_idx = 0\n",
    "    right_idx = 21\n",
    "\n",
    "    left_highlight_idx = 0\n",
    "    right_highlight_idx = selected_idx+5\n",
    "\n",
    "elif selected_idx>=temp.shape[0]-10:\n",
    "    left_idx = temp.shape[0]-21\n",
    "    right_idx = temp.shape[0]\n",
    "\n",
    "    left_highlight_idx = selected_idx-5\n",
    "    right_highlight_idx = temp.shape[0]\n",
    "\n",
    "else:\n",
    "    left_idx = selected_idx-10\n",
    "    right_idx = selected_idx+11\n",
    "\n",
    "    left_highlight_idx = selected_idx-5\n",
    "    right_highlight_idx = selected_idx+5    \n",
    "\n",
    "X = temp.iloc[left_idx:right_idx]['minsOfTheDay']\n",
    "Y = temp.iloc[left_idx:right_idx]['lots_available']\n",
    "\n",
    "X_highlight = temp.iloc[left_highlight_idx:right_highlight_idx]['minsOfTheDay']\n",
    "max_availability = Y.max()\n",
    "\n",
    "fig = go.Figure()\n",
    "fig = go.Figure(go.Scatter(x=X_highlight, y=[max_availability+5 for _ in range(len(X_highlight))], \n",
    "                           fill=\"tozeroy\", marker = dict(size=1,\n",
    "                              line=dict(width=1,\n",
    "                                        color='DarkSlateGrey'))))\n",
    "\n",
    "fig.add_trace(go.Scatter(x=X, y=Y,\n",
    "                    mode='lines',\n",
    "                    name='lines'))"
   ]
  },
  {
   "cell_type": "code",
   "execution_count": 36,
   "metadata": {},
   "outputs": [
    {
     "name": "stderr",
     "output_type": "stream",
     "text": [
      "<ipython-input-36-0605a066c620>:1: FutureWarning:\n",
      "\n",
      "The pandas.datetime class is deprecated and will be removed from pandas in a future version. Import from datetime module instead.\n",
      "\n"
     ]
    }
   ],
   "source": [
    "a  = pd.datetime.now()"
   ]
  },
  {
   "cell_type": "code",
   "execution_count": 41,
   "metadata": {},
   "outputs": [
    {
     "data": {
      "text/plain": [
       "datetime.datetime(2021, 3, 20, 11, 12, 50, 280948)"
      ]
     },
     "execution_count": 41,
     "metadata": {},
     "output_type": "execute_result"
    }
   ],
   "source": [
    "a.replace(minute=12)"
   ]
  },
  {
   "cell_type": "code",
   "execution_count": 48,
   "metadata": {},
   "outputs": [
    {
     "data": {
      "text/plain": [
       "135"
      ]
     },
     "execution_count": 48,
     "metadata": {},
     "output_type": "execute_result"
    }
   ],
   "source": [
    "current_min = 132\n",
    "rounded_min = current_min + (5 - current_min%5)\n",
    "rounded_min"
   ]
  },
  {
   "cell_type": "code",
   "execution_count": 49,
   "metadata": {},
   "outputs": [
    {
     "data": {
      "text/html": [
       "<div>\n",
       "<style scoped>\n",
       "    .dataframe tbody tr th:only-of-type {\n",
       "        vertical-align: middle;\n",
       "    }\n",
       "\n",
       "    .dataframe tbody tr th {\n",
       "        vertical-align: top;\n",
       "    }\n",
       "\n",
       "    .dataframe thead th {\n",
       "        text-align: right;\n",
       "    }\n",
       "</style>\n",
       "<table border=\"1\" class=\"dataframe\">\n",
       "  <thead>\n",
       "    <tr style=\"text-align: right;\">\n",
       "      <th></th>\n",
       "      <th>carpark_number</th>\n",
       "      <th>dayOfWeek</th>\n",
       "      <th>minsOfTheDay</th>\n",
       "      <th>total_lots</th>\n",
       "      <th>lot_type</th>\n",
       "      <th>lots_available</th>\n",
       "    </tr>\n",
       "  </thead>\n",
       "  <tbody>\n",
       "    <tr>\n",
       "      <th>4445856</th>\n",
       "      <td>YHS</td>\n",
       "      <td>5</td>\n",
       "      <td>0</td>\n",
       "      <td>64.0</td>\n",
       "      <td>C</td>\n",
       "      <td>0.0</td>\n",
       "    </tr>\n",
       "    <tr>\n",
       "      <th>4445857</th>\n",
       "      <td>YHS</td>\n",
       "      <td>5</td>\n",
       "      <td>5</td>\n",
       "      <td>64.0</td>\n",
       "      <td>C</td>\n",
       "      <td>0.0</td>\n",
       "    </tr>\n",
       "    <tr>\n",
       "      <th>4445858</th>\n",
       "      <td>YHS</td>\n",
       "      <td>5</td>\n",
       "      <td>10</td>\n",
       "      <td>64.0</td>\n",
       "      <td>C</td>\n",
       "      <td>0.0</td>\n",
       "    </tr>\n",
       "    <tr>\n",
       "      <th>4445859</th>\n",
       "      <td>YHS</td>\n",
       "      <td>5</td>\n",
       "      <td>15</td>\n",
       "      <td>64.0</td>\n",
       "      <td>C</td>\n",
       "      <td>0.0</td>\n",
       "    </tr>\n",
       "    <tr>\n",
       "      <th>4445860</th>\n",
       "      <td>YHS</td>\n",
       "      <td>5</td>\n",
       "      <td>20</td>\n",
       "      <td>64.0</td>\n",
       "      <td>C</td>\n",
       "      <td>33.0</td>\n",
       "    </tr>\n",
       "    <tr>\n",
       "      <th>...</th>\n",
       "      <td>...</td>\n",
       "      <td>...</td>\n",
       "      <td>...</td>\n",
       "      <td>...</td>\n",
       "      <td>...</td>\n",
       "      <td>...</td>\n",
       "    </tr>\n",
       "    <tr>\n",
       "      <th>4446139</th>\n",
       "      <td>YHS</td>\n",
       "      <td>5</td>\n",
       "      <td>1415</td>\n",
       "      <td>64.0</td>\n",
       "      <td>C</td>\n",
       "      <td>20.0</td>\n",
       "    </tr>\n",
       "    <tr>\n",
       "      <th>4446140</th>\n",
       "      <td>YHS</td>\n",
       "      <td>5</td>\n",
       "      <td>1420</td>\n",
       "      <td>64.0</td>\n",
       "      <td>C</td>\n",
       "      <td>20.0</td>\n",
       "    </tr>\n",
       "    <tr>\n",
       "      <th>4446141</th>\n",
       "      <td>YHS</td>\n",
       "      <td>5</td>\n",
       "      <td>1425</td>\n",
       "      <td>64.0</td>\n",
       "      <td>C</td>\n",
       "      <td>20.0</td>\n",
       "    </tr>\n",
       "    <tr>\n",
       "      <th>4446142</th>\n",
       "      <td>YHS</td>\n",
       "      <td>5</td>\n",
       "      <td>1430</td>\n",
       "      <td>64.0</td>\n",
       "      <td>C</td>\n",
       "      <td>20.0</td>\n",
       "    </tr>\n",
       "    <tr>\n",
       "      <th>4446143</th>\n",
       "      <td>YHS</td>\n",
       "      <td>5</td>\n",
       "      <td>1435</td>\n",
       "      <td>64.0</td>\n",
       "      <td>C</td>\n",
       "      <td>20.0</td>\n",
       "    </tr>\n",
       "  </tbody>\n",
       "</table>\n",
       "<p>288 rows × 6 columns</p>\n",
       "</div>"
      ],
      "text/plain": [
       "        carpark_number  dayOfWeek  minsOfTheDay  total_lots lot_type  \\\n",
       "4445856            YHS          5             0        64.0        C   \n",
       "4445857            YHS          5             5        64.0        C   \n",
       "4445858            YHS          5            10        64.0        C   \n",
       "4445859            YHS          5            15        64.0        C   \n",
       "4445860            YHS          5            20        64.0        C   \n",
       "...                ...        ...           ...         ...      ...   \n",
       "4446139            YHS          5          1415        64.0        C   \n",
       "4446140            YHS          5          1420        64.0        C   \n",
       "4446141            YHS          5          1425        64.0        C   \n",
       "4446142            YHS          5          1430        64.0        C   \n",
       "4446143            YHS          5          1435        64.0        C   \n",
       "\n",
       "         lots_available  \n",
       "4445856             0.0  \n",
       "4445857             0.0  \n",
       "4445858             0.0  \n",
       "4445859             0.0  \n",
       "4445860            33.0  \n",
       "...                 ...  \n",
       "4446139            20.0  \n",
       "4446140            20.0  \n",
       "4446141            20.0  \n",
       "4446142            20.0  \n",
       "4446143            20.0  \n",
       "\n",
       "[288 rows x 6 columns]"
      ]
     },
     "execution_count": 49,
     "metadata": {},
     "output_type": "execute_result"
    }
   ],
   "source": [
    "temp"
   ]
  },
  {
   "cell_type": "code",
   "execution_count": null,
   "metadata": {},
   "outputs": [],
   "source": []
  },
  {
   "cell_type": "code",
   "execution_count": null,
   "metadata": {},
   "outputs": [],
   "source": []
  }
 ],
 "metadata": {
  "kernelspec": {
   "display_name": "Python 3",
   "language": "python",
   "name": "python3"
  },
  "language_info": {
   "codemirror_mode": {
    "name": "ipython",
    "version": 3
   },
   "file_extension": ".py",
   "mimetype": "text/x-python",
   "name": "python",
   "nbconvert_exporter": "python",
   "pygments_lexer": "ipython3",
   "version": "3.8.3"
  }
 },
 "nbformat": 4,
 "nbformat_minor": 5
}
